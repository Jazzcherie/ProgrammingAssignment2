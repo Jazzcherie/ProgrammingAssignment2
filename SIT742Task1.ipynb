{
  "nbformat": 4,
  "nbformat_minor": 0,
  "metadata": {
    "colab": {
      "name": "SIT742Task1.ipynb",
      "provenance": [],
      "collapsed_sections": [],
      "toc_visible": true,
      "include_colab_link": true
    },
    "kernelspec": {
      "display_name": "Python 3",
      "language": "python",
      "name": "python3"
    },
    "language_info": {
      "codemirror_mode": {
        "name": "ipython",
        "version": 3
      },
      "file_extension": ".py",
      "mimetype": "text/x-python",
      "name": "python",
      "nbconvert_exporter": "python",
      "pygments_lexer": "ipython3",
      "version": "3.7.3"
    },
    "name": "SampleCode",
    "notebookId": 2691131752868967
  },
  "cells": [
    {
      "cell_type": "markdown",
      "metadata": {
        "id": "view-in-github",
        "colab_type": "text"
      },
      "source": [
        "<a href=\"https://colab.research.google.com/github/Jazzcherie/ProgrammingAssignment2/blob/master/SIT742Task1.ipynb\" target=\"_parent\"><img src=\"https://colab.research.google.com/assets/colab-badge.svg\" alt=\"Open In Colab\"/></a>"
      ]
    },
    {
      "cell_type": "markdown",
      "metadata": {
        "id": "3D514Ei_kSUS"
      },
      "source": [
        "# SIT742: Modern Data Science \n",
        "**(2021 Assessment Task 01 - Data Manipulation)**\n",
        "\n",
        "---\n",
        "- Please refer to the CloudDeakin for the detailed assessment requirements.\n",
        "- Please submit to Clouddeakin before the due date.\n",
        "- Students with difficulty in meeting the deadline because of illness, etc. must apply for an assignment extension (up to 3 days) no later than *12:00pm on 16/04/2021 (Friday)*.\n",
        "\n",
        "\n",
        "Prepared by **SIT742 Teaching Team**\n",
        "\n",
        "\n",
        "---\n",
        "\n",
        "<div class=\"alert alert-block alert-info\">\n",
        "Enter your information in the following cell. Please make sure you fill your Student ID and Name correctly.  \n",
        "</div>\n",
        "\n",
        "**Student Information:** Please fill your information below\n",
        "\n",
        "- Name:  \n",
        "- Student ID:  \n",
        "- Email:  \n",
        "- Lab Session and Tutor (for on campus students): \n",
        "\n",
        "---"
      ]
    },
    {
      "cell_type": "markdown",
      "metadata": {
        "id": "1X7L24t43CoU"
      },
      "source": [
        "# Part I - Web Log Data\n",
        "\n",
        "## Overview\n",
        "\n",
        "Hotel TULIP a five-star hotel located at Deakin University, and its CIO Dr Bear Guts has asked the Team-SIT742 team to analyse the weblogs files. As an employee for Hotel Tulip, working in the Information Technology Division, it is required to prepare a set of documentation for Team-SIT742 to allow them to understand the data being dealt with. Throughout this report, some source codes are to explore the weblog, which afterwards the information is presented to Dr Bear Guts in the format of a report.\n",
        "\n",
        "In this part, you are required to use give dataset to finish some required analysis, with the exploreation data analytics skills as well as visuilization skill.\n",
        "\n",
        "\n",
        "You will be required to complete the coding to answer the questions with a neat and clean format, and you must keep outputs for code. Your commenting and adherence to code standards will also be considered when marking. Further information on Python standards, please visit https://www.python.org/dev/peps/pep-0008/ \n",
        "\n",
        "\n",
        "**Note**: You are not necessary to stick to the partial code provided, and you can write your own code to implement the required tasks. But you should provide sufficient comments.\n"
      ]
    },
    {
      "cell_type": "markdown",
      "metadata": {
        "id": "r85LNibZkSUZ"
      },
      "source": [
        "\n",
        "\n",
        "## 1.  Data ETL"
      ]
    },
    {
      "cell_type": "markdown",
      "metadata": {
        "id": "HtL_9QR27_Iu"
      },
      "source": [
        "### 1.1 Data Loading"
      ]
    },
    {
      "cell_type": "markdown",
      "metadata": {
        "id": "6N9J5X1Y5NDv"
      },
      "source": [
        ""
      ]
    },
    {
      "cell_type": "code",
      "metadata": {
        "id": "uwAy9spb5N4R"
      },
      "source": [
        ""
      ],
      "execution_count": null,
      "outputs": []
    },
    {
      "cell_type": "code",
      "metadata": {
        "id": "19EhpLspkSUZ"
      },
      "source": [
        "import matplotlib.pyplot as plt\n",
        "import numpy as np\n",
        "import pandas as pd\n",
        "import time\n",
        "import datetime\n",
        "from scipy import stats\n",
        "import matplotlib\n"
      ],
      "execution_count": 1,
      "outputs": []
    },
    {
      "cell_type": "code",
      "metadata": {
        "id": "0QH9XUdk5_7L"
      },
      "source": [
        "from zipfile import ZipFile"
      ],
      "execution_count": 7,
      "outputs": []
    },
    {
      "cell_type": "markdown",
      "metadata": {
        "id": "jY2Br4cBN956"
      },
      "source": [
        " <div class=\"alert alert-block alert-info\">\n",
        "\n",
        "**Code**: \n",
        "    You are required to load Hotel TULIP data into dataframe df_ht and check how many files are loaded.\n",
        "    <br>\n",
        "    *Keep the outputs for code in your notebook.\n",
        "</div>\n",
        "\n"
      ]
    },
    {
      "cell_type": "code",
      "metadata": {
        "id": "IIB_xH-hOqEj"
      },
      "source": [
        "# Your code\n",
        "from zipfile import ZipFile\n",
        "\n",
        "df_ht =  # Your code ....\n",
        "\n",
        "# Column names from .log files. You may need to change them when loading to DataFrame.\n",
        "\n",
        "# ColumnNames=['date','time','s-sitename','s-ip','cs-method','cs-uri-stem','cs-uri-query','s-port','cs-username',\n",
        "#              'c-ip','cs(User-Agent)','cs(Referer)','sc-status','sc-substatus','sc-win32-status']"
      ],
      "execution_count": null,
      "outputs": []
    },
    {
      "cell_type": "code",
      "metadata": {
        "id": "qZgdr4MQ5P_y"
      },
      "source": [
        "from google.colab import drive"
      ],
      "execution_count": 2,
      "outputs": []
    },
    {
      "cell_type": "code",
      "metadata": {
        "colab": {
          "base_uri": "https://localhost:8080/",
          "height": 317
        },
        "id": "KAR4pb7z5UfB",
        "outputId": "67f19989-ce0b-4d08-fed5-f783b9dccf2b"
      },
      "source": [
        "drive.mount('/Users/jasminefeatherston/Downloads/SIT742 - Modern Data Science - 3282021 - 1211 AM/DSO/Assignments/HTWebLog_p1.zip')"
      ],
      "execution_count": 4,
      "outputs": [
        {
          "output_type": "error",
          "ename": "ValueError",
          "evalue": "ignored",
          "traceback": [
            "\u001b[0;31m---------------------------------------------------------------------------\u001b[0m",
            "\u001b[0;31mValueError\u001b[0m                                Traceback (most recent call last)",
            "\u001b[0;32m<ipython-input-4-d2d70d979d16>\u001b[0m in \u001b[0;36m<module>\u001b[0;34m()\u001b[0m\n\u001b[0;32m----> 1\u001b[0;31m \u001b[0mdrive\u001b[0m\u001b[0;34m.\u001b[0m\u001b[0mmount\u001b[0m\u001b[0;34m(\u001b[0m\u001b[0;34m'/Users/jasminefeatherston/Downloads/SIT742 - Modern Data Science - 3282021 - 1211 AM/DSO/Assignments/HTWebLog_p1.zip'\u001b[0m\u001b[0;34m)\u001b[0m\u001b[0;34m\u001b[0m\u001b[0;34m\u001b[0m\u001b[0m\n\u001b[0m",
            "\u001b[0;32m/usr/local/lib/python3.7/dist-packages/google/colab/drive.py\u001b[0m in \u001b[0;36mmount\u001b[0;34m(mountpoint, force_remount, timeout_ms, use_metadata_server)\u001b[0m\n\u001b[1;32m    101\u001b[0m \u001b[0;34m\u001b[0m\u001b[0m\n\u001b[1;32m    102\u001b[0m   \u001b[0;32mif\u001b[0m \u001b[0;34m' '\u001b[0m \u001b[0;32min\u001b[0m \u001b[0mmountpoint\u001b[0m\u001b[0;34m:\u001b[0m\u001b[0;34m\u001b[0m\u001b[0;34m\u001b[0m\u001b[0m\n\u001b[0;32m--> 103\u001b[0;31m     \u001b[0;32mraise\u001b[0m \u001b[0mValueError\u001b[0m\u001b[0;34m(\u001b[0m\u001b[0;34m'Mountpoint must not contain a space.'\u001b[0m\u001b[0;34m)\u001b[0m\u001b[0;34m\u001b[0m\u001b[0;34m\u001b[0m\u001b[0m\n\u001b[0m\u001b[1;32m    104\u001b[0m \u001b[0;34m\u001b[0m\u001b[0m\n\u001b[1;32m    105\u001b[0m   \u001b[0mmountpoint\u001b[0m \u001b[0;34m=\u001b[0m \u001b[0m_os\u001b[0m\u001b[0;34m.\u001b[0m\u001b[0mpath\u001b[0m\u001b[0;34m.\u001b[0m\u001b[0mexpanduser\u001b[0m\u001b[0;34m(\u001b[0m\u001b[0mmountpoint\u001b[0m\u001b[0;34m)\u001b[0m\u001b[0;34m\u001b[0m\u001b[0;34m\u001b[0m\u001b[0m\n",
            "\u001b[0;31mValueError\u001b[0m: Mountpoint must not contain a space."
          ]
        }
      ]
    },
    {
      "cell_type": "code",
      "metadata": {
        "colab": {
          "base_uri": "https://localhost:8080/",
          "height": 232
        },
        "id": "Vid5pus36w3v",
        "outputId": "f7d777db-e213-4f30-f558-2c0ccb563814"
      },
      "source": [
        "from google.colab import files\n",
        "\n",
        "uploaded = files.upload('/Users/jasminefeatherston/Downloads/SIT742 - Modern Data Science - 3282021 - 1211 AM/DSO/Assignments/HTWebLog_p1')\n",
        "\n"
      ],
      "execution_count": 9,
      "outputs": [
        {
          "output_type": "error",
          "ename": "TypeError",
          "evalue": "ignored",
          "traceback": [
            "\u001b[0;31m---------------------------------------------------------------------------\u001b[0m",
            "\u001b[0;31mTypeError\u001b[0m                                 Traceback (most recent call last)",
            "\u001b[0;32m<ipython-input-9-bd231022adc8>\u001b[0m in \u001b[0;36m<module>\u001b[0;34m()\u001b[0m\n\u001b[1;32m      1\u001b[0m \u001b[0;32mfrom\u001b[0m \u001b[0mgoogle\u001b[0m\u001b[0;34m.\u001b[0m\u001b[0mcolab\u001b[0m \u001b[0;32mimport\u001b[0m \u001b[0mfiles\u001b[0m\u001b[0;34m\u001b[0m\u001b[0;34m\u001b[0m\u001b[0m\n\u001b[1;32m      2\u001b[0m \u001b[0;34m\u001b[0m\u001b[0m\n\u001b[0;32m----> 3\u001b[0;31m \u001b[0muploaded\u001b[0m \u001b[0;34m=\u001b[0m \u001b[0mfiles\u001b[0m\u001b[0;34m.\u001b[0m\u001b[0mupload\u001b[0m\u001b[0;34m(\u001b[0m\u001b[0;34m'/Users/jasminefeatherston/Downloads/SIT742 - Modern Data Science - 3282021 - 1211 AM/DSO/Assignments/HTWebLog_p1'\u001b[0m\u001b[0;34m)\u001b[0m\u001b[0;34m\u001b[0m\u001b[0;34m\u001b[0m\u001b[0m\n\u001b[0m\u001b[1;32m      4\u001b[0m \u001b[0;34m\u001b[0m\u001b[0m\n",
            "\u001b[0;31mTypeError\u001b[0m: upload() takes 0 positional arguments but 1 was given"
          ]
        }
      ]
    },
    {
      "cell_type": "code",
      "metadata": {
        "colab": {
          "resources": {
            "http://localhost:8080/nbextensions/google.colab/files.js": {
              "data": "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",
              "ok": true,
              "headers": [
                [
                  "content-type",
                  "application/javascript"
                ]
              ],
              "status": 200,
              "status_text": ""
            }
          },
          "base_uri": "https://localhost:8080/",
          "height": 157
        },
        "id": "o_GeVUZX7ZlL",
        "outputId": "ea8ca19a-0503-40da-e0c9-4a9d3d7072a4"
      },
      "source": [
        "from google.colab import files\n",
        "uploaded = files.upload()"
      ],
      "execution_count": null,
      "outputs": [
        {
          "output_type": "display_data",
          "data": {
            "text/html": [
              "\n",
              "     <input type=\"file\" id=\"files-ed286fad-199c-4fe4-89d6-47b670fda9e6\" name=\"files[]\" multiple disabled\n",
              "        style=\"border:none\" />\n",
              "     <output id=\"result-ed286fad-199c-4fe4-89d6-47b670fda9e6\">\n",
              "      Upload widget is only available when the cell has been executed in the\n",
              "      current browser session. Please rerun this cell to enable.\n",
              "      </output>\n",
              "      <script src=\"/nbextensions/google.colab/files.js\"></script> "
            ],
            "text/plain": [
              "<IPython.core.display.HTML object>"
            ]
          },
          "metadata": {
            "tags": []
          }
        },
        {
          "output_type": "stream",
          "text": [
            "Saving ex061101.log to ex061101.log\n",
            "Saving ex061102.log to ex061102.log\n",
            "Saving ex061103.log to ex061103.log\n",
            "Saving ex061104.log to ex061104.log\n",
            "Saving ex061105.log to ex061105.log\n",
            "Saving ex061106.log to ex061106.log\n"
          ],
          "name": "stdout"
        }
      ]
    },
    {
      "cell_type": "code",
      "metadata": {
        "id": "nh9GMw8w5Yl9"
      },
      "source": [
        ""
      ],
      "execution_count": null,
      "outputs": []
    },
    {
      "cell_type": "markdown",
      "metadata": {
        "id": "Dyt9lwm_QKFV"
      },
      "source": [
        " <div class=\"alert alert-block alert-info\">\n",
        "\n",
        "**Code**: \n",
        "    Check the data statistics and general information by printing its top 5 rows.\n",
        "    <br>\n",
        "    *Keep the outputs for code in your notebook.\n",
        "</div>\n",
        "\n",
        "<div class=\"alert alert-block alert-warning\">\n",
        "    \n",
        "**Report**: \n",
        "    **Part I 1.1** Please include your result for this coding task into your SIT742-DataDictionary.xlsx, then add to your report - Part I with proper section title '1.1.1' and '1.1.2'.\n",
        "</div>\n",
        "    </div>\n"
      ]
    },
    {
      "cell_type": "code",
      "metadata": {
        "id": "1h7LqSGgQRUb"
      },
      "source": [
        "# Your code"
      ],
      "execution_count": null,
      "outputs": []
    },
    {
      "cell_type": "markdown",
      "metadata": {
        "id": "jDUDzs7lkSUa"
      },
      "source": [
        "### 1.2 Data Cleaning"
      ]
    },
    {
      "cell_type": "markdown",
      "metadata": {
        "id": "En0WOURqp7dB"
      },
      "source": [
        "#### Remove all NAs from data"
      ]
    },
    {
      "cell_type": "markdown",
      "metadata": {
        "id": "Efxzawa7Xdv9"
      },
      "source": [
        "\n",
        "<div class=\"alert alert-block alert-warning\">\n",
        "\n",
        "**Code**: \n",
        "    1. Check which columns have NAs, <br>\n",
        "    2. For each of those columns, display the number of NA records, <br> \n",
        "    3. emove all records with any NAs.\n",
        "    <br>\n",
        "    *Keep the outputs for code in your notebook.\n",
        "</div> \n",
        "\n",
        "<div class=\"alert alert-block alert-warning\">\n",
        "    \n",
        "**Report**: \n",
        "    **Part I 1.2** Please include your result for this coding task into your report Part I, with proper section title '1.2'.\n",
        "</div>\n",
        "    </div>\n"
      ]
    },
    {
      "cell_type": "code",
      "metadata": {
        "id": "GX3BeD361pTw"
      },
      "source": [
        "# Your code"
      ],
      "execution_count": null,
      "outputs": []
    },
    {
      "cell_type": "markdown",
      "metadata": {
        "id": "mq3sWOXtrZhF"
      },
      "source": [
        "## 2. Data Statistics Description"
      ]
    },
    {
      "cell_type": "markdown",
      "metadata": {
        "id": "BJuh1nsirmOy"
      },
      "source": [
        "### 2.1 Traffic Analysis"
      ]
    },
    {
      "cell_type": "markdown",
      "metadata": {
        "id": "vzey2OZygD8u"
      },
      "source": [
        "\n",
        "<div class=\"alert alert-block alert-warning\">\n",
        "\n",
        "**Code**: \n",
        "    Discover on the traffics by analysing hourly requests, then plot it into Bar Chart.\n",
        "    <br>\n",
        "    *Keep the outputs for code in your notebook.\n",
        "</div> \n",
        "\n",
        "<div class=\"alert alert-block alert-warning\">\n",
        "    \n",
        "**Report**: \n",
        "    **Part I 2.1.A** Please include your result for this coding task into your report Part I, with proper section title '2.1.A'.\n",
        "</div>\n",
        "    </div>\n"
      ]
    },
    {
      "cell_type": "markdown",
      "metadata": {
        "id": "EpEeaqZtxIZg"
      },
      "source": [
        "#### By day and plot \n",
        "\n"
      ]
    },
    {
      "cell_type": "code",
      "metadata": {
        "id": "DAH1IrWbfQQW"
      },
      "source": [
        "# Create a bar chart of the number of server requests by hour of the day\n",
        "#\n",
        "plt.title(\"Requests per Hour\")\n",
        "\n",
        "# Your code"
      ],
      "execution_count": null,
      "outputs": []
    },
    {
      "cell_type": "markdown",
      "metadata": {
        "id": "aFEJDPvEy8ZR"
      },
      "source": [
        "\n",
        "<div class=\"alert alert-block alert-warning\">\n",
        "\n",
        "**Code**: \n",
        "    You are required to filter the hourly requests by removing any below 490,000 and above 400,000. (hourly_request_amount >= 400000 & hourly_request_amount <= 490000)    \n",
        "    <br>\n",
        "    *Keep the outputs for code in your notebook.\n",
        "</div> \n",
        "\n",
        "<div class=\"alert alert-block alert-warning\">\n",
        "    \n",
        "**Report**: \n",
        "    **Part I 2.1.B** Please include your result for this coding task into your report, with proper section title '2.1.B'.\n",
        "</div>\n",
        "    </div>\n"
      ]
    },
    {
      "cell_type": "code",
      "metadata": {
        "id": "TLArAkrH0rig"
      },
      "source": [
        "#Your code"
      ],
      "execution_count": null,
      "outputs": []
    },
    {
      "cell_type": "markdown",
      "metadata": {
        "id": "xwKZ2IAr9IR_"
      },
      "source": [
        "### 2.2 Server Analysis"
      ]
    },
    {
      "cell_type": "markdown",
      "metadata": {
        "id": "n2sojLZStPBh"
      },
      "source": [
        "<div class=\"alert alert-block alert-warning\">\n",
        "\n",
        "**Code**: \n",
        "    Discover on the server status using 'sc-status' from DataFrame, then plot it into Pie Chart. <br>\n",
        "    *Keep the outputs for code in your notebook.\n",
        "</div> \n",
        "\n",
        "<div class=\"alert alert-block alert-warning\">\n",
        "    \n",
        "**Report**: \n",
        "    **Part I 2.2** Please include your results for this coding task into your report Part I section '2.2', <br>\n",
        "    1. How many types of status reported? <br>\n",
        "    2. Figure 'Server Status' in pie chart. <br>\n",
        "</div>"
      ]
    },
    {
      "cell_type": "markdown",
      "metadata": {
        "id": "jOy7bisdx6iB"
      },
      "source": [
        "#### Server Status"
      ]
    },
    {
      "cell_type": "code",
      "metadata": {
        "id": "9nVWlMSXrHQg"
      },
      "source": [
        "plt.title(\"Server Status\")\n",
        "\n",
        "#Your code"
      ],
      "execution_count": null,
      "outputs": []
    },
    {
      "cell_type": "markdown",
      "metadata": {
        "id": "bxT49TgGpwrw"
      },
      "source": [
        "### 2.3 Geographic Analysis"
      ]
    },
    {
      "cell_type": "markdown",
      "metadata": {
        "id": "MpEve4Zgvtc9"
      },
      "source": [
        "Clinet's IP addresses can reflect geographic information. Since different IP are from different countries even citys, we can find out the demographics information from them. You may use **DbIpCity** from **ip2geotools** to find the geolocation information from given IPs.\n",
        "\n",
        "**Notes:**\n",
        "There are some attributes in ip2geotools can help: <br>\n",
        "*ip_address*: IP address <br>\n",
        "*city*: city where IP address is located <br>\n",
        "*region*: region where IP address is located <br>\n",
        "*country*: country where IP address is located (two letters country code) <br>"
      ]
    },
    {
      "cell_type": "markdown",
      "metadata": {
        "id": "AvUQUKGCqLhJ"
      },
      "source": [
        "#### 2.3.A Requests by Country\n",
        "<div class=\"alert alert-block alert-warning\">\n",
        "\n",
        "**Code**: \n",
        "    Build your code with the following requirements <br>\n",
        "    1. Select all requests at 01 Jan 2007 from 20:00:00 pm to 20:59:59. <br>\n",
        "    2. Discover on the demographics by analysing requests from country level. <br>\n",
        "    3. Plot countries of all requests in pie chart. <br>\n",
        "    4. List top 3 with the numbers of requests. <br>\n",
        "    *Keep the outputs for code in your notebook.\n",
        "</div> \n",
        "\n",
        "<div class=\"alert alert-block alert-warning\">\n",
        "    \n",
        "**Report**: \n",
        "    **Part I 2.3.A** Please include your results for this coding task into your report Part I section '2.3.A', <br>\n",
        "    1. How many requests raised in the period of time? <br>\n",
        "    2. How many countries are invlolved? <br>\n",
        "    3. Figure 'Request by Country' in pie chart. <br>\n",
        "    4. top 3 countries with request numbers. <br>\n",
        "</div>"
      ]
    },
    {
      "cell_type": "code",
      "metadata": {
        "id": "g1UvjRlOVjy0"
      },
      "source": [
        "!pip install ip2geotools"
      ],
      "execution_count": null,
      "outputs": []
    },
    {
      "cell_type": "code",
      "metadata": {
        "id": "jSdycFyYzybd"
      },
      "source": [
        "from ip2geotools.databases.noncommercial import DbIpCity\n",
        "\n",
        "#Your code"
      ],
      "execution_count": null,
      "outputs": []
    },
    {
      "cell_type": "code",
      "metadata": {
        "id": "xN21MLq7x6Cf"
      },
      "source": [
        "# Create a pie chart of the country values\n",
        "\n",
        "plt.title(\"Request by Country\")"
      ],
      "execution_count": null,
      "outputs": []
    },
    {
      "cell_type": "markdown",
      "metadata": {
        "id": "Qhf-g91_umxF"
      },
      "source": [
        "#### 2.3.B Requests by City\n",
        "<div class=\"alert alert-block alert-warning\">\n",
        "\n",
        "**Code**: \n",
        "    Using the selected requests from 2.3.A and build your code with the following requirements <br>\n",
        "    1. Discover on the demographics by analysing requests from city level. <br>\n",
        "    2. Plot cities of all requests in pie chart. <br>\n",
        "    3. List top 3 with the numbers of requests. <br>\n",
        "    *Keep the outputs for code in your notebook.\n",
        "</div> \n",
        "\n",
        "<div class=\"alert alert-block alert-warning\">\n",
        "    \n",
        "**Report**: \n",
        "    **Part I 2.3.B** Please include your results for this coding task into your report Part I section '2.3.B', <br>\n",
        "    1. How many cites are invlolved? <br>\n",
        "    2. Figure 'Request by City' in pie chart. <br>\n",
        "    3. Top 3 cities with request numbers. <br>\n",
        "</div>"
      ]
    },
    {
      "cell_type": "code",
      "metadata": {
        "id": "g7p39EpEBqaj"
      },
      "source": [
        "# Create a pie chart of the city values\n",
        "\n",
        "plt.title(\"Request by City\")"
      ],
      "execution_count": null,
      "outputs": []
    },
    {
      "cell_type": "markdown",
      "metadata": {
        "id": "UOLvHKdZtcto"
      },
      "source": [
        "# Part II - Web Crawling\n",
        "\n",
        "## Overview\n",
        "To better introduce all the professors including the emeritus professor, the professor and also associate professor in Deakin University School of IT, faculty will need to know all the citation information on all professors. Google Scholar is a web search engine that freely indexes the metadata of articles on many authors. Majority of the professors choose to use google scholar to track their publications and research works. Therefore,  the web crawling on google scholar will be able to have the citation information obtained across all the professors (who have the google scholar profile).\n"
      ]
    },
    {
      "cell_type": "markdown",
      "metadata": {
        "id": "gqbiN3nAw0tS"
      },
      "source": [
        "## 3. Professor List Generation"
      ]
    },
    {
      "cell_type": "markdown",
      "metadata": {
        "id": "Bm7eq9Iywjc-"
      },
      "source": [
        "### 3.1 Import and install web crawling library. \n",
        "\n",
        "<div class=\"alert alert-block alert-warning\">\n",
        "\n",
        "**Code**: \n",
        "    Import and install your web crawling library here. \n",
        "</div> \n",
        "\n",
        "<div class=\"alert alert-block alert-warning\">\n",
        "    \n",
        "**Report**: \n",
        "    **Part II 3.1** Please include your result for this coding task into your report Part II, with proper section title '3.1'.\n",
        "</div>\n",
        "\n",
        "*hint: you could use selenium by doing the pip install selenium, download the webdriver for chromedriver and define your webdriver for crawling. But you are free to use any other library*\n",
        "\n"
      ]
    },
    {
      "cell_type": "code",
      "metadata": {
        "id": "rHKPhKwUwtyI"
      },
      "source": [
        "# write your import and necessary web crawling libary here\n",
        "\n"
      ],
      "execution_count": null,
      "outputs": []
    },
    {
      "cell_type": "markdown",
      "metadata": {
        "id": "ZX4OQIsfwwk_"
      },
      "source": [
        "### 3.2 Find all professors in School of IT and save it as csv. \n",
        "\n",
        "<div class=\"alert alert-block alert-warning\">\n",
        "\n",
        "**Code**: \n",
        "    Find all professors in Schoolf of IT and save it as csv. The csv must have the full name of the professor (in one column), the title of the professor and University Name.\n",
        "</div> \n",
        "\n",
        "<div class=\"alert alert-block alert-warning\">\n",
        "    \n",
        "**Report**: \n",
        "    **Part II 3.2** Please include your result for this coding task into your report Part II, with proper section title '3.2'.\n",
        "</div>\n",
        "\n",
        "\n",
        "\n",
        "*hint: the url of the staff list for school of IT is https://www.deakin.edu.au/information-technology/staff-listing. you may need to iteratively find out html tag by table in the page to start crawl all the text from td (td is the elements in html table, check https://www.w3schools.com/html/html_tables.asp)*"
      ]
    },
    {
      "cell_type": "code",
      "metadata": {
        "id": "vII6Na-1xEAh"
      },
      "source": [
        "# here we first define the parsing method, you will need to use this parsing method to format the professor full name and title from the staff page.\n",
        "# the name of the professor from staff page will be split by space and last two words are full name \n",
        "def parse_name(stringtext):\n",
        "  return \" \".join(stringtext.split(\" \")[-2:]),\" \".join(stringtext.split(\" \")[:-2])"
      ],
      "execution_count": null,
      "outputs": []
    },
    {
      "cell_type": "code",
      "metadata": {
        "id": "RmLHQyKbxIEL"
      },
      "source": [
        "import pandas as pd\n",
        "# the crawling information will be stored in pandas dataframe and then save as csv\n",
        "# below you are required to use the parse_name method to crawl the professor's full name and title\n",
        "# The column name must be same as the provided professor-list.csv\n"
      ],
      "execution_count": null,
      "outputs": []
    },
    {
      "cell_type": "markdown",
      "metadata": {
        "id": "hwKTqMXaxOpw"
      },
      "source": [
        "## 4. Professor Citation Information Generation\n"
      ]
    },
    {
      "cell_type": "markdown",
      "metadata": {
        "id": "_uk5f1LgxQc7"
      },
      "source": [
        "### 4.1 Search the google scholar for all professors \n",
        "\n",
        "<div class=\"alert alert-block alert-warning\">\n",
        "\n",
        "**Code**: \n",
        "    Search the google scholar for all professors and obtain their citations-all, h-index-all, i10-all, citation-since2016,h-index-2016 and i10-since2016. Save the results as csv and must having **all the professors name, title and all 6 citation information.**\n",
        "</div> \n",
        "\n",
        "<div class=\"alert alert-block alert-warning\">\n",
        "    \n",
        "**Report**: \n",
        "    **Part II 4.1** Please include your result for this coding task into your report Part II, with proper section title '4.1'.\n",
        "</div>\n",
        "\n",
        "\n",
        "*hint: if the professors did not have the google scholar profle with the name, save the 6 citation information as string \"na\". you could use the while loop with condition or for loop with if condition or for loop with defined method having if condition to deal with those professors do not have google scholar*"
      ]
    },
    {
      "cell_type": "code",
      "metadata": {
        "id": "YITbe1Owxf2o"
      },
      "source": [
        "# search the google scholar for all professors to obtain their citations_all, h-index_all, i10_all, citation_since2016\n",
        "# h-index-2016 and i10_since2016. Save the results as csv and must having all the professors name, title and all 6 citation information.\n",
        "# if the professors did not have the google scholar profle with the name, save the 6 citation information as string \"na\"\n",
        "# you are requests to use loops and Conditional Statements to finish this task (eg: while / for, if...), failed to use loop\n",
        "# and conditional statements will occur 0 mark.\n",
        "# hint: sometimes, to render the google scholar page, you need to wait for the brower for few seconds, you could use \"from time import sleep\"\n",
        "# to have sleep(5) as the wait action for waiting 5 seconds.  \n",
        "# The column name must be same as the provided professor-citation-information.csv \n",
        "# write your code for this part as below:\n",
        "\n"
      ],
      "execution_count": null,
      "outputs": []
    },
    {
      "cell_type": "markdown",
      "metadata": {
        "id": "7xxoyZvzxgmK"
      },
      "source": [
        "### 4.2 Find out the professor name having the most citations \n",
        "\n",
        "<div class=\"alert alert-block alert-warning\">\n",
        "\n",
        "**Code**: \n",
        "    Find out the professor name having the most citations (please remove those professor who does not have google scholar page)\n",
        "</div>\n",
        "\n",
        "<div class=\"alert alert-block alert-warning\">\n",
        "    \n",
        "**Report**: \n",
        "    **Part II 4.2** Please include your result for this coding task into your report Part II, with proper section title '4.2'.\n",
        "</div>\n"
      ]
    },
    {
      "cell_type": "code",
      "metadata": {
        "id": "ay_z3pC8xntr"
      },
      "source": [
        "# find out the professor name having the most citations (please remove those professor who does not have google scholar page)\n",
        "# write your code here\n",
        "\n"
      ],
      "execution_count": null,
      "outputs": []
    },
    {
      "cell_type": "markdown",
      "metadata": {
        "id": "MTlPxwg5xo_U"
      },
      "source": [
        "### 4.3 Find out the row for associate professor having the most i10-index since 2016 \n",
        "<div class=\"alert alert-block alert-warning\">\n",
        "\n",
        "**Code**: \n",
        "    Find out the row for associate professor having the most i10-index since 2016 (please remove those professor who does not have google scholar page)\n",
        "</div>\n",
        "\n",
        "\n",
        "<div class=\"alert alert-block alert-warning\">\n",
        "    \n",
        "**Report**: \n",
        "    **Part II 4.3** Please include your result for this coding task into your report Part II, with proper section title '4.3'.\n",
        "</div>\n"
      ]
    },
    {
      "cell_type": "code",
      "metadata": {
        "id": "MjpexWtRxwA5"
      },
      "source": [
        "# find out the row for associate professor having the most i10_index since 2016 (please remove those professor who does not have google scholar page)\n",
        "# write your code here"
      ],
      "execution_count": null,
      "outputs": []
    },
    {
      "cell_type": "markdown",
      "metadata": {
        "id": "lsHSp2H9xxRg"
      },
      "source": [
        "### 4.4 Find out all the professors name who has the citations_since2016 > 2500\n",
        "<div class=\"alert alert-block alert-warning\">\n",
        "\n",
        "**Code**: \n",
        "    Find out the row for associate professor having the most i10-index since 2016 (please remove those professor who does not have google scholar page)\n",
        "</div>\n",
        "\n",
        "<div class=\"alert alert-block alert-warning\">\n",
        "    \n",
        "**Report**: \n",
        "    **Part II 4.4** Please include your result for this coding task into your report Part II, with proper section title '4.4'.\n",
        "</div>\n"
      ]
    },
    {
      "cell_type": "code",
      "metadata": {
        "id": "ZD352krRx5Dk"
      },
      "source": [
        "# find out all the professors name who has the citations_since2016 > 2500\n",
        "# write your code here"
      ],
      "execution_count": null,
      "outputs": []
    }
  ]
}